{
  "cells": [
    {
      "cell_type": "markdown",
      "metadata": {
        "id": "4ujRxT6p_w0g"
      },
      "source": [
        "# **EDA and Visualization**"
      ]
    },
    {
      "cell_type": "markdown",
      "metadata": {
        "id": "OTHNySZoTcoH"
      },
      "source": [
        "**FIFA 22 Sport Predicitions**\n",
        "\n",
        "In this project, when one is making the best team for their FIFA club, the capabilities of the players added are the most important. Do those players fill the hole in your formation? Are they the right fit for the team? Do they have the skills to back up their cost? Our project is about calculating the ratings of these players using the Attributes and Positions of the player to help anyone know and decide if the player is an excellent addition to their club."
      ]
    },
    {
      "cell_type": "markdown",
      "metadata": {
        "id": "lv6AsZz0FIv_"
      },
      "source": [
        "## **Data Preprocessing and Cleaning**"
      ]
    },
    {
      "cell_type": "code",
      "execution_count": 3,
      "metadata": {
        "colab": {
          "base_uri": "https://localhost:8080/"
        },
        "id": "TBE0GgTtCHNy",
        "outputId": "5890f2d4-68b8-4b00-f3a3-00c5f3049437"
      },
      "outputs": [
        {
          "output_type": "stream",
          "name": "stdout",
          "text": [
            "Mounted at /content/drive\n"
          ]
        }
      ],
      "source": [
        "import pandas as pd\n",
        "import numpy as np\n",
        "from sklearn.metrics import mean_absolute_error, mean_squared_error\n",
        "from sklearn.impute import SimpleImputer\n",
        "from sklearn.preprocessing import LabelEncoder\n",
        "from sklearn.preprocessing import OneHotEncoder\n",
        "from sklearn.ensemble import RandomForestRegressor, GradientBoostingRegressor\n",
        "from xgboost import XGBRegressor\n",
        "import pickle\n",
        "from google.colab import drive\n",
        "drive.mount('/content/drive')"
      ]
    },
    {
      "cell_type": "markdown",
      "metadata": {
        "id": "AMksd27IkNLq"
      },
      "source": [
        "Running player_22 files after testing the entire process with player_21 files"
      ]
    },
    {
      "cell_type": "code",
      "execution_count": 4,
      "metadata": {
        "colab": {
          "base_uri": "https://localhost:8080/"
        },
        "id": "jeTJwwCgZM7F",
        "outputId": "e9b08eb2-d346-405e-bd86-502e156d2ca9"
      },
      "outputs": [
        {
          "output_type": "stream",
          "name": "stderr",
          "text": [
            "<ipython-input-4-bce56f0f5fc2>:2: DtypeWarning: Columns (25,108) have mixed types. Specify dtype option on import or set low_memory=False.\n",
            "  unseen_df = pd.read_csv('/content/drive/My Drive/ColabAssign/players_22.csv')\n"
          ]
        }
      ],
      "source": [
        "df=pd.read_csv('/content/drive/My Drive/ColabAssign/players_21.csv')\n",
        "unseen_df = pd.read_csv('/content/drive/My Drive/ColabAssign/players_22.csv')\n"
      ]
    },
    {
      "cell_type": "code",
      "execution_count": 5,
      "metadata": {
        "colab": {
          "base_uri": "https://localhost:8080/"
        },
        "id": "dQmgYkqdyQG7",
        "outputId": "c1dd6af9-97d8-4dd4-ffc9-550534b99e42"
      },
      "outputs": [
        {
          "output_type": "execute_result",
          "data": {
            "text/plain": [
              "Index(['sofifa_id', 'player_url', 'short_name', 'long_name',\n",
              "       'player_positions', 'overall', 'potential', 'value_eur', 'wage_eur',\n",
              "       'age',\n",
              "       ...\n",
              "       'lcb', 'cb', 'rcb', 'rb', 'gk', 'player_face_url', 'club_logo_url',\n",
              "       'club_flag_url', 'nation_logo_url', 'nation_flag_url'],\n",
              "      dtype='object', length=110)"
            ]
          },
          "metadata": {},
          "execution_count": 5
        }
      ],
      "source": [
        "df.columns"
      ]
    },
    {
      "cell_type": "markdown",
      "metadata": {
        "id": "Y_p_UxqIXekQ"
      },
      "source": [
        "Removing all useless columns"
      ]
    },
    {
      "cell_type": "code",
      "execution_count": 6,
      "metadata": {
        "id": "HG7kPNzXGVg5"
      },
      "outputs": [],
      "source": [
        "#Removing all columns with over 30% null values\n",
        "\n",
        "# Calculate the threshold for 30% null values\n",
        "threshold = len(df) * 0.3\n",
        "\n",
        "# Use dropna with the thresh parameter\n",
        "df.dropna(thresh=threshold, axis=1, inplace = True)\n",
        "unseen_df.dropna(thresh=threshold, axis=1, inplace = True)\n",
        "\n",
        "# Now df contains only columns with less than 30% null values\n"
      ]
    },
    {
      "cell_type": "code",
      "execution_count": 7,
      "metadata": {
        "id": "MZDciKPss4QX"
      },
      "outputs": [],
      "source": [
        "#Removing useless columns\n",
        "useless_columns = ['sofifa_id', 'player_url', 'long_name',\n",
        "                   'body_type', 'real_face',\n",
        "                   'player_face_url', 'club_logo_url', 'nation_flag_url',\n",
        "                    'wage_eur','nationality_id', 'nationality_name',\n",
        "                   'club_jersey_number', 'club_joined', 'club_contract_valid_until', 'club_flag_url',\"ls\", \"st\",\"rs\", \"lw\", \"lf\", \"cf\", \"rf\", \"rw\", \"lam\",\"cam\",\"ram\",\"lm\", \"lcm\", \"cm\",\"rcm\", \"rm\", \"lwb\", \"ldm\", \"cdm\", \"rdm\",\"rwb\", \"lb\",\n",
        "              \"lcb\", \"cb\", \"rcb\",\"rb\",\"gk\"\n",
        "                   ]\n"
      ]
    },
    {
      "cell_type": "code",
      "execution_count": 8,
      "metadata": {
        "id": "HL40EivPxczB"
      },
      "outputs": [],
      "source": [
        "new_df = df.drop(useless_columns, axis = 1)\n",
        "unseen = unseen_df.drop(useless_columns, axis=1)"
      ]
    },
    {
      "cell_type": "code",
      "execution_count": 9,
      "metadata": {
        "colab": {
          "base_uri": "https://localhost:8080/"
        },
        "id": "y_40v_JcybnO",
        "outputId": "f5a7e22c-8c96-45fb-fcd1-f47f62bfd132"
      },
      "outputs": [
        {
          "output_type": "stream",
          "name": "stdout",
          "text": [
            "<class 'pandas.core.frame.DataFrame'>\n",
            "RangeIndex: 18944 entries, 0 to 18943\n",
            "Data columns (total 61 columns):\n",
            " #   Column                       Non-Null Count  Dtype  \n",
            "---  ------                       --------------  -----  \n",
            " 0   short_name                   18944 non-null  object \n",
            " 1   player_positions             18944 non-null  object \n",
            " 2   overall                      18944 non-null  int64  \n",
            " 3   potential                    18944 non-null  int64  \n",
            " 4   value_eur                    18707 non-null  float64\n",
            " 5   age                          18944 non-null  int64  \n",
            " 6   dob                          18944 non-null  object \n",
            " 7   height_cm                    18944 non-null  int64  \n",
            " 8   weight_kg                    18944 non-null  int64  \n",
            " 9   club_team_id                 18719 non-null  float64\n",
            " 10  club_name                    18719 non-null  object \n",
            " 11  league_name                  18719 non-null  object \n",
            " 12  league_level                 18719 non-null  float64\n",
            " 13  club_position                18719 non-null  object \n",
            " 14  preferred_foot               18944 non-null  object \n",
            " 15  weak_foot                    18944 non-null  int64  \n",
            " 16  skill_moves                  18944 non-null  int64  \n",
            " 17  international_reputation     18944 non-null  int64  \n",
            " 18  work_rate                    18944 non-null  object \n",
            " 19  release_clause_eur           17949 non-null  float64\n",
            " 20  player_traits                8315 non-null   object \n",
            " 21  pace                         16861 non-null  float64\n",
            " 22  shooting                     16861 non-null  float64\n",
            " 23  passing                      16861 non-null  float64\n",
            " 24  dribbling                    16861 non-null  float64\n",
            " 25  defending                    16861 non-null  float64\n",
            " 26  physic                       16861 non-null  float64\n",
            " 27  attacking_crossing           18944 non-null  int64  \n",
            " 28  attacking_finishing          18944 non-null  int64  \n",
            " 29  attacking_heading_accuracy   18944 non-null  int64  \n",
            " 30  attacking_short_passing      18944 non-null  int64  \n",
            " 31  attacking_volleys            18944 non-null  int64  \n",
            " 32  skill_dribbling              18944 non-null  int64  \n",
            " 33  skill_curve                  18944 non-null  int64  \n",
            " 34  skill_fk_accuracy            18944 non-null  int64  \n",
            " 35  skill_long_passing           18944 non-null  int64  \n",
            " 36  skill_ball_control           18944 non-null  int64  \n",
            " 37  movement_acceleration        18944 non-null  int64  \n",
            " 38  movement_sprint_speed        18944 non-null  int64  \n",
            " 39  movement_agility             18944 non-null  int64  \n",
            " 40  movement_reactions           18944 non-null  int64  \n",
            " 41  movement_balance             18944 non-null  int64  \n",
            " 42  power_shot_power             18944 non-null  int64  \n",
            " 43  power_jumping                18944 non-null  int64  \n",
            " 44  power_stamina                18944 non-null  int64  \n",
            " 45  power_strength               18944 non-null  int64  \n",
            " 46  power_long_shots             18944 non-null  int64  \n",
            " 47  mentality_aggression         18944 non-null  int64  \n",
            " 48  mentality_interceptions      18944 non-null  int64  \n",
            " 49  mentality_positioning        18944 non-null  int64  \n",
            " 50  mentality_vision             18944 non-null  int64  \n",
            " 51  mentality_penalties          18944 non-null  int64  \n",
            " 52  mentality_composure          18944 non-null  int64  \n",
            " 53  defending_marking_awareness  18944 non-null  int64  \n",
            " 54  defending_standing_tackle    18944 non-null  int64  \n",
            " 55  defending_sliding_tackle     18944 non-null  int64  \n",
            " 56  goalkeeping_diving           18944 non-null  int64  \n",
            " 57  goalkeeping_handling         18944 non-null  int64  \n",
            " 58  goalkeeping_kicking          18944 non-null  int64  \n",
            " 59  goalkeeping_positioning      18944 non-null  int64  \n",
            " 60  goalkeeping_reflexes         18944 non-null  int64  \n",
            "dtypes: float64(10), int64(42), object(9)\n",
            "memory usage: 8.8+ MB\n"
          ]
        }
      ],
      "source": [
        "new_df.info()"
      ]
    },
    {
      "cell_type": "markdown",
      "metadata": {
        "id": "V391YOb7kzlf"
      },
      "source": [
        "## **Feature Engineering**"
      ]
    },
    {
      "cell_type": "markdown",
      "metadata": {
        "id": "pw5ffA-NX-g2"
      },
      "source": [
        "Encoding and Imputating Both Datasets"
      ]
    },
    {
      "cell_type": "code",
      "execution_count": 10,
      "metadata": {
        "id": "RLYr_Kz7D9IF"
      },
      "outputs": [],
      "source": [
        "# Impute missing values for numerical columns\n",
        "numerical_imputer = SimpleImputer(strategy='mean')\n",
        "#for players_21\n",
        "df_imputed_numerical = pd.DataFrame(numerical_imputer.fit_transform(new_df.select_dtypes(include='number')), columns=new_df.select_dtypes(include='number').columns)\n",
        "#For players_22\n",
        "unseen_imputed_numerical = pd.DataFrame(numerical_imputer.fit_transform(unseen.select_dtypes(include='number')), columns=unseen.select_dtypes(include='number').columns)\n",
        "\n",
        "# Impute missing values for categorical columns\n",
        "for column in new_df.select_dtypes(include='object').columns:\n",
        "    new_df[column] = new_df[column].fillna(new_df[column].mode()[0])\n",
        "    unseen[column] = unseen[column].fillna(unseen[column].mode()[0])\n",
        "\n",
        "# Now new_df contains the entire dataset with imputed values for both numerical and categorical columns"
      ]
    },
    {
      "cell_type": "code",
      "execution_count": 11,
      "metadata": {
        "id": "IPmcwOyb1blX"
      },
      "outputs": [],
      "source": [
        "# Label encode categorical variables\n",
        "label_encoder = LabelEncoder()\n",
        "\n",
        "for column in new_df.select_dtypes(include='object').columns:\n",
        "  #player_21\n",
        "    new_df[column] = label_encoder.fit_transform(new_df[column])\n",
        "  #players_22\n",
        "    unseen[column] = label_encoder.fit_transform(unseen[column])\n",
        "\n",
        "\n",
        "# Concatenate the encoded columns with the imputed numerical columns\n",
        "df_final = pd.concat([df_imputed_numerical, new_df.select_dtypes(include='object')], axis=1)\n",
        "unseen_final = pd.concat([unseen_imputed_numerical, unseen.select_dtypes(include='object')], axis=1)\n",
        "\n",
        "# Now df_final contains the entire dataset with imputed values and label encoded categorical columns\n"
      ]
    },
    {
      "cell_type": "code",
      "execution_count": 12,
      "metadata": {
        "id": "a2sT-mF21j3T"
      },
      "outputs": [],
      "source": [
        "df_final = df_final.dropna()\n",
        "unseen_final = unseen_final.dropna()"
      ]
    },
    {
      "cell_type": "markdown",
      "metadata": {
        "id": "znqx9wCoq2vU"
      },
      "source": [
        "Training models with Player_21"
      ]
    },
    {
      "cell_type": "code",
      "execution_count": 13,
      "metadata": {
        "id": "MVLfP6EVb8yJ"
      },
      "outputs": [],
      "source": [
        "y = df_final[\"overall\"]"
      ]
    },
    {
      "cell_type": "code",
      "execution_count": 14,
      "metadata": {
        "id": "PRfATJBGdWYY"
      },
      "outputs": [],
      "source": [
        "X = df_final.drop(columns=['overall'])"
      ]
    },
    {
      "cell_type": "code",
      "execution_count": 15,
      "metadata": {
        "id": "i8QqpPipyMSw"
      },
      "outputs": [],
      "source": [
        "from sklearn.model_selection import train_test_split"
      ]
    },
    {
      "cell_type": "code",
      "execution_count": 16,
      "metadata": {
        "id": "1jWNT9VCq9m-"
      },
      "outputs": [],
      "source": [
        "X_train, X_test, y_train, y_test = train_test_split(X, y, test_size=0.3, random_state=42)"
      ]
    },
    {
      "cell_type": "markdown",
      "metadata": {
        "id": "huC2A29VlzWf"
      },
      "source": [
        "Creating and training the model using the RandomForest, XGBoost, and Gradient Boost Regressors that can predict a player rating."
      ]
    },
    {
      "cell_type": "code",
      "execution_count": 17,
      "metadata": {
        "colab": {
          "base_uri": "https://localhost:8080/"
        },
        "id": "pAPALlfOISNY",
        "outputId": "24b9028f-0b1f-49ed-fa3f-08eff7591a3f"
      },
      "outputs": [
        {
          "output_type": "stream",
          "name": "stdout",
          "text": [
            "Feature Ranking:\n",
            "1.Feature value_eur(0.6767824853426374)\n",
            "2.Feature release_clause_eur(0.1449016631853957)\n",
            "3.Feature age(0.10669107323491853)\n",
            "4.Feature potential(0.047968766844168995)\n",
            "5.Feature movement_reactions(0.017236409228201896)\n",
            "6.Feature defending(0.0002531033809081008)\n",
            "7.Feature defending_marking_awareness(0.00020200687211827751)\n",
            "8.Feature attacking_crossing(0.0001832159162218995)\n",
            "9.Feature goalkeeping_reflexes(0.00018188450362503485)\n",
            "10.Feature dribbling(0.000179515838055657)\n",
            "11.Feature power_stamina(0.00017547513606515624)\n",
            "12.Feature club_team_id(0.00017499670524155094)\n",
            "13.Feature goalkeeping_positioning(0.00017376003216366967)\n",
            "14.Feature mentality_composure(0.00017199378212519716)\n",
            "15.Feature goalkeeping_diving(0.00017162834893177115)\n",
            "16.Feature attacking_heading_accuracy(0.00017065526194936766)\n",
            "17.Feature power_shot_power(0.00016879782956756733)\n",
            "18.Feature mentality_interceptions(0.00016586594980476588)\n",
            "19.Feature mentality_penalties(0.00016509635731620664)\n",
            "20.Feature skill_ball_control(0.00016209212064242036)\n",
            "21.Feature mentality_aggression(0.00015918768608314896)\n",
            "22.Feature power_jumping(0.00015109565456143976)\n",
            "23.Feature power_long_shots(0.00014765374287647198)\n",
            "24.Feature physic(0.0001468921313865771)\n",
            "25.Feature movement_sprint_speed(0.0001433889422123989)\n",
            "26.Feature attacking_short_passing(0.00014268943619709606)\n",
            "27.Feature defending_standing_tackle(0.0001399247009694638)\n",
            "28.Feature attacking_volleys(0.0001390988924984926)\n",
            "29.Feature goalkeeping_handling(0.00013735260112207603)\n",
            "30.Feature goalkeeping_kicking(0.00013703053744376487)\n",
            "31.Feature mentality_vision(0.00013411094375046528)\n",
            "32.Feature skill_dribbling(0.00013172436070284222)\n",
            "33.Feature skill_long_passing(0.0001317093855609491)\n",
            "34.Feature attacking_finishing(0.00013124718049124432)\n",
            "35.Feature movement_agility(0.00012796606724377205)\n",
            "36.Feature mentality_positioning(0.0001279263437306415)\n",
            "37.Feature movement_balance(0.00012674833695945455)\n",
            "38.Feature defending_sliding_tackle(0.00012522439051112317)\n",
            "39.Feature power_strength(0.00012518054723247284)\n",
            "40.Feature passing(0.00012166685074137239)\n",
            "41.Feature skill_fk_accuracy(0.00012038724293426033)\n",
            "42.Feature skill_curve(0.00011984261825451512)\n",
            "43.Feature movement_acceleration(0.00011953332453889432)\n",
            "44.Feature weight_kg(0.00011754137182948146)\n",
            "45.Feature height_cm(0.0001172115606214546)\n",
            "46.Feature international_reputation(0.00010205935089335951)\n",
            "47.Feature shooting(9.62979526045492e-05)\n",
            "48.Feature pace(9.589708307807328e-05)\n",
            "49.Feature weak_foot(4.449366831316269e-05)\n",
            "50.Feature league_level(3.721023184702688e-05)\n",
            "51.Feature skill_moves(2.1220992750854633e-05)\n"
          ]
        }
      ],
      "source": [
        "# RandomForestRegressor\n",
        "rf_model = RandomForestRegressor(random_state=42)\n",
        "rf_model.fit(X_train, y_train)\n",
        "importances = rf_model.feature_importances_\n",
        "indices = np.argsort(importances)[::-1]\n",
        "print(\"Feature Ranking:\")\n",
        "for i in range(X.shape[1]):\n",
        "  print(f\"{i + 1}.Feature {X.columns[indices[i]]}({importances[indices[i]]})\")"
      ]
    },
    {
      "cell_type": "code",
      "execution_count": 18,
      "metadata": {
        "colab": {
          "base_uri": "https://localhost:8080/"
        },
        "id": "7cc7oCPx8oYX",
        "outputId": "872dfaf7-10fa-4bdc-d822-3df48b0c639f"
      },
      "outputs": [
        {
          "output_type": "stream",
          "name": "stdout",
          "text": [
            "\n",
            "Top 20 features:\n",
            "['value_eur', 'release_clause_eur', 'age', 'potential', 'movement_reactions', 'defending', 'defending_marking_awareness', 'attacking_crossing', 'goalkeeping_reflexes', 'dribbling', 'power_stamina', 'club_team_id', 'goalkeeping_positioning', 'mentality_composure', 'goalkeeping_diving', 'attacking_heading_accuracy', 'power_shot_power', 'mentality_interceptions', 'mentality_penalties', 'skill_ball_control', 'mentality_aggression', 'power_jumping', 'power_long_shots', 'physic', 'movement_sprint_speed', 'attacking_short_passing', 'defending_standing_tackle', 'attacking_volleys', 'goalkeeping_handling', 'goalkeeping_kicking']\n"
          ]
        }
      ],
      "source": [
        "top_features = [X.columns[indices[i]] for i in range(30)]\n",
        "print(\"\\nTop 20 features:\")\n",
        "print(top_features)"
      ]
    },
    {
      "cell_type": "markdown",
      "metadata": {
        "id": "81SGffl0bFh9"
      },
      "source": [
        "After breaking down the features into how much they contribute to the calculation of player rating, we decided to use only the top 5: value, release clause, dob/age, potential, and movement reactions. When the values were added up, it proved 0.99, meaning all values below tthat are negible."
      ]
    },
    {
      "cell_type": "code",
      "execution_count": 19,
      "metadata": {
        "id": "qtjr-vLq80LF"
      },
      "outputs": [],
      "source": [
        "#Changing our datasets to include only the top 5 features,\n",
        "features = ['value_eur', 'release_clause_eur', 'age', 'potential', 'movement_reactions']\n",
        "new_df = df_final[features]\n",
        "unseen_y = unseen_final[\"overall\"]\n",
        "new_unseen = unseen_final[features]"
      ]
    },
    {
      "cell_type": "markdown",
      "metadata": {
        "id": "QhWqG7osk-cA"
      },
      "source": [
        "We now have the values we will be using to train the other two models: GradientBoost and XGBoost Regressor"
      ]
    },
    {
      "cell_type": "code",
      "execution_count": 20,
      "metadata": {
        "id": "HafmDeldcdY2"
      },
      "outputs": [],
      "source": [
        "#Scaling the dataset\n",
        "from sklearn.preprocessing import StandardScaler\n",
        "X= new_df\n",
        "X=StandardScaler().fit_transform(X.copy())\n",
        "new_unseen = StandardScaler().fit_transform(new_unseen.copy())"
      ]
    },
    {
      "cell_type": "markdown",
      "metadata": {
        "id": "pH_eZ0vnlDv4"
      },
      "source": [
        "## **Training Models**"
      ]
    },
    {
      "cell_type": "markdown",
      "metadata": {
        "id": "J2yif-eKzvZc"
      },
      "source": [
        "Splitting our modified Dataset and training with GradientBoostingRegressor and XGBRegressor."
      ]
    },
    {
      "cell_type": "code",
      "execution_count": 21,
      "metadata": {
        "id": "GeZK7F6PxV9u"
      },
      "outputs": [],
      "source": [
        "X_train, X_test, y_train, y_test = train_test_split(X, y, test_size=0.2, random_state=42)"
      ]
    },
    {
      "cell_type": "code",
      "execution_count": 22,
      "metadata": {
        "colab": {
          "base_uri": "https://localhost:8080/"
        },
        "id": "rjjkZ_siRepH",
        "outputId": "571b8871-5d32-4ec2-d78f-b3090713583e"
      },
      "outputs": [
        {
          "output_type": "stream",
          "name": "stdout",
          "text": [
            "Mean Absolute Error: 0.7138859492860312\n"
          ]
        }
      ],
      "source": [
        "# GradientBoostingRegressor\n",
        "gb_model = GradientBoostingRegressor(random_state=42)\n",
        "gb_model.fit(X_train, y_train)\n",
        "gb_predictions = np.round(gb_model.predict(X_test)).ravel()\n",
        "gb_rmse = np.sqrt(mean_absolute_error(y_test, gb_predictions))\n",
        "print(f'Mean Absolute Error: {gb_rmse}')\n"
      ]
    },
    {
      "cell_type": "code",
      "execution_count": 23,
      "metadata": {
        "colab": {
          "base_uri": "https://localhost:8080/"
        },
        "id": "01WxtygBRevR",
        "outputId": "16aa01ac-5991-4401-f6a7-366c02eb4b5b"
      },
      "outputs": [
        {
          "output_type": "stream",
          "name": "stdout",
          "text": [
            "Mean Absolute Error: 0.5915629437867324\n"
          ]
        }
      ],
      "source": [
        "# XGBRegressor\n",
        "xgb_model = XGBRegressor(random_state=42)\n",
        "xgb_model.fit(X_train,y_train)\n",
        "xgb_predictions = xgb_model.predict(X_test)\n",
        "xgb_rmse = np.sqrt(mean_absolute_error(y_test, xgb_predictions))\n",
        "print(f'Mean Absolute Error: {xgb_rmse}')"
      ]
    },
    {
      "cell_type": "markdown",
      "metadata": {
        "id": "YlIj4yX70542"
      },
      "source": [
        "With XGBoost Regressor, we cross-validate and proceed with it as the model of choice"
      ]
    },
    {
      "cell_type": "code",
      "execution_count": 24,
      "metadata": {
        "colab": {
          "base_uri": "https://localhost:8080/",
          "height": 205
        },
        "id": "3nfms9h4ZcGn",
        "outputId": "f00b9279-d407-4905-f445-36daaead8e67"
      },
      "outputs": [
        {
          "output_type": "stream",
          "name": "stderr",
          "text": [
            "/usr/local/lib/python3.10/dist-packages/xgboost/core.py:160: UserWarning: [16:34:29] WARNING: /workspace/src/learner.cc:742: \n",
            "Parameters: { \"min_samples_split\" } are not used.\n",
            "\n",
            "  warnings.warn(smsg, UserWarning)\n"
          ]
        },
        {
          "output_type": "execute_result",
          "data": {
            "text/plain": [
              "GridSearchCV(cv=5,\n",
              "             estimator=XGBRegressor(base_score=None, booster=None,\n",
              "                                    callbacks=None, colsample_bylevel=None,\n",
              "                                    colsample_bynode=None,\n",
              "                                    colsample_bytree=None, device=None,\n",
              "                                    early_stopping_rounds=None,\n",
              "                                    enable_categorical=False, eval_metric=None,\n",
              "                                    feature_types=None, gamma=None,\n",
              "                                    grow_policy=None, importance_type=None,\n",
              "                                    interaction_constraints=None,\n",
              "                                    learning_rate=None, m...\n",
              "                                    max_cat_to_onehot=None, max_delta_step=None,\n",
              "                                    max_depth=None, max_leaves=None,\n",
              "                                    min_child_weight=None, missing=nan,\n",
              "                                    monotone_constraints=None,\n",
              "                                    multi_strategy=None, n_estimators=None,\n",
              "                                    n_jobs=None, num_parallel_tree=None,\n",
              "                                    random_state=None, ...),\n",
              "             n_jobs=-1,\n",
              "             param_grid={'max_depth': [10, 20, 40],\n",
              "                         'min_samples_split': [17, 39, 100],\n",
              "                         'n_estimators': [50, 250, 500]},\n",
              "             scoring='neg_mean_squared_error')"
            ],
            "text/html": [
              "<style>#sk-container-id-1 {color: black;background-color: white;}#sk-container-id-1 pre{padding: 0;}#sk-container-id-1 div.sk-toggleable {background-color: white;}#sk-container-id-1 label.sk-toggleable__label {cursor: pointer;display: block;width: 100%;margin-bottom: 0;padding: 0.3em;box-sizing: border-box;text-align: center;}#sk-container-id-1 label.sk-toggleable__label-arrow:before {content: \"▸\";float: left;margin-right: 0.25em;color: #696969;}#sk-container-id-1 label.sk-toggleable__label-arrow:hover:before {color: black;}#sk-container-id-1 div.sk-estimator:hover label.sk-toggleable__label-arrow:before {color: black;}#sk-container-id-1 div.sk-toggleable__content {max-height: 0;max-width: 0;overflow: hidden;text-align: left;background-color: #f0f8ff;}#sk-container-id-1 div.sk-toggleable__content pre {margin: 0.2em;color: black;border-radius: 0.25em;background-color: #f0f8ff;}#sk-container-id-1 input.sk-toggleable__control:checked~div.sk-toggleable__content {max-height: 200px;max-width: 100%;overflow: auto;}#sk-container-id-1 input.sk-toggleable__control:checked~label.sk-toggleable__label-arrow:before {content: \"▾\";}#sk-container-id-1 div.sk-estimator input.sk-toggleable__control:checked~label.sk-toggleable__label {background-color: #d4ebff;}#sk-container-id-1 div.sk-label input.sk-toggleable__control:checked~label.sk-toggleable__label {background-color: #d4ebff;}#sk-container-id-1 input.sk-hidden--visually {border: 0;clip: rect(1px 1px 1px 1px);clip: rect(1px, 1px, 1px, 1px);height: 1px;margin: -1px;overflow: hidden;padding: 0;position: absolute;width: 1px;}#sk-container-id-1 div.sk-estimator {font-family: monospace;background-color: #f0f8ff;border: 1px dotted black;border-radius: 0.25em;box-sizing: border-box;margin-bottom: 0.5em;}#sk-container-id-1 div.sk-estimator:hover {background-color: #d4ebff;}#sk-container-id-1 div.sk-parallel-item::after {content: \"\";width: 100%;border-bottom: 1px solid gray;flex-grow: 1;}#sk-container-id-1 div.sk-label:hover label.sk-toggleable__label {background-color: #d4ebff;}#sk-container-id-1 div.sk-serial::before {content: \"\";position: absolute;border-left: 1px solid gray;box-sizing: border-box;top: 0;bottom: 0;left: 50%;z-index: 0;}#sk-container-id-1 div.sk-serial {display: flex;flex-direction: column;align-items: center;background-color: white;padding-right: 0.2em;padding-left: 0.2em;position: relative;}#sk-container-id-1 div.sk-item {position: relative;z-index: 1;}#sk-container-id-1 div.sk-parallel {display: flex;align-items: stretch;justify-content: center;background-color: white;position: relative;}#sk-container-id-1 div.sk-item::before, #sk-container-id-1 div.sk-parallel-item::before {content: \"\";position: absolute;border-left: 1px solid gray;box-sizing: border-box;top: 0;bottom: 0;left: 50%;z-index: -1;}#sk-container-id-1 div.sk-parallel-item {display: flex;flex-direction: column;z-index: 1;position: relative;background-color: white;}#sk-container-id-1 div.sk-parallel-item:first-child::after {align-self: flex-end;width: 50%;}#sk-container-id-1 div.sk-parallel-item:last-child::after {align-self: flex-start;width: 50%;}#sk-container-id-1 div.sk-parallel-item:only-child::after {width: 0;}#sk-container-id-1 div.sk-dashed-wrapped {border: 1px dashed gray;margin: 0 0.4em 0.5em 0.4em;box-sizing: border-box;padding-bottom: 0.4em;background-color: white;}#sk-container-id-1 div.sk-label label {font-family: monospace;font-weight: bold;display: inline-block;line-height: 1.2em;}#sk-container-id-1 div.sk-label-container {text-align: center;}#sk-container-id-1 div.sk-container {/* jupyter's `normalize.less` sets `[hidden] { display: none; }` but bootstrap.min.css set `[hidden] { display: none !important; }` so we also need the `!important` here to be able to override the default hidden behavior on the sphinx rendered scikit-learn.org. See: https://github.com/scikit-learn/scikit-learn/issues/21755 */display: inline-block !important;position: relative;}#sk-container-id-1 div.sk-text-repr-fallback {display: none;}</style><div id=\"sk-container-id-1\" class=\"sk-top-container\"><div class=\"sk-text-repr-fallback\"><pre>GridSearchCV(cv=5,\n",
              "             estimator=XGBRegressor(base_score=None, booster=None,\n",
              "                                    callbacks=None, colsample_bylevel=None,\n",
              "                                    colsample_bynode=None,\n",
              "                                    colsample_bytree=None, device=None,\n",
              "                                    early_stopping_rounds=None,\n",
              "                                    enable_categorical=False, eval_metric=None,\n",
              "                                    feature_types=None, gamma=None,\n",
              "                                    grow_policy=None, importance_type=None,\n",
              "                                    interaction_constraints=None,\n",
              "                                    learning_rate=None, m...\n",
              "                                    max_cat_to_onehot=None, max_delta_step=None,\n",
              "                                    max_depth=None, max_leaves=None,\n",
              "                                    min_child_weight=None, missing=nan,\n",
              "                                    monotone_constraints=None,\n",
              "                                    multi_strategy=None, n_estimators=None,\n",
              "                                    n_jobs=None, num_parallel_tree=None,\n",
              "                                    random_state=None, ...),\n",
              "             n_jobs=-1,\n",
              "             param_grid={&#x27;max_depth&#x27;: [10, 20, 40],\n",
              "                         &#x27;min_samples_split&#x27;: [17, 39, 100],\n",
              "                         &#x27;n_estimators&#x27;: [50, 250, 500]},\n",
              "             scoring=&#x27;neg_mean_squared_error&#x27;)</pre><b>In a Jupyter environment, please rerun this cell to show the HTML representation or trust the notebook. <br />On GitHub, the HTML representation is unable to render, please try loading this page with nbviewer.org.</b></div><div class=\"sk-container\" hidden><div class=\"sk-item sk-dashed-wrapped\"><div class=\"sk-label-container\"><div class=\"sk-label sk-toggleable\"><input class=\"sk-toggleable__control sk-hidden--visually\" id=\"sk-estimator-id-1\" type=\"checkbox\" ><label for=\"sk-estimator-id-1\" class=\"sk-toggleable__label sk-toggleable__label-arrow\">GridSearchCV</label><div class=\"sk-toggleable__content\"><pre>GridSearchCV(cv=5,\n",
              "             estimator=XGBRegressor(base_score=None, booster=None,\n",
              "                                    callbacks=None, colsample_bylevel=None,\n",
              "                                    colsample_bynode=None,\n",
              "                                    colsample_bytree=None, device=None,\n",
              "                                    early_stopping_rounds=None,\n",
              "                                    enable_categorical=False, eval_metric=None,\n",
              "                                    feature_types=None, gamma=None,\n",
              "                                    grow_policy=None, importance_type=None,\n",
              "                                    interaction_constraints=None,\n",
              "                                    learning_rate=None, m...\n",
              "                                    max_cat_to_onehot=None, max_delta_step=None,\n",
              "                                    max_depth=None, max_leaves=None,\n",
              "                                    min_child_weight=None, missing=nan,\n",
              "                                    monotone_constraints=None,\n",
              "                                    multi_strategy=None, n_estimators=None,\n",
              "                                    n_jobs=None, num_parallel_tree=None,\n",
              "                                    random_state=None, ...),\n",
              "             n_jobs=-1,\n",
              "             param_grid={&#x27;max_depth&#x27;: [10, 20, 40],\n",
              "                         &#x27;min_samples_split&#x27;: [17, 39, 100],\n",
              "                         &#x27;n_estimators&#x27;: [50, 250, 500]},\n",
              "             scoring=&#x27;neg_mean_squared_error&#x27;)</pre></div></div></div><div class=\"sk-parallel\"><div class=\"sk-parallel-item\"><div class=\"sk-item\"><div class=\"sk-label-container\"><div class=\"sk-label sk-toggleable\"><input class=\"sk-toggleable__control sk-hidden--visually\" id=\"sk-estimator-id-2\" type=\"checkbox\" ><label for=\"sk-estimator-id-2\" class=\"sk-toggleable__label sk-toggleable__label-arrow\">estimator: XGBRegressor</label><div class=\"sk-toggleable__content\"><pre>XGBRegressor(base_score=None, booster=None, callbacks=None,\n",
              "             colsample_bylevel=None, colsample_bynode=None,\n",
              "             colsample_bytree=None, device=None, early_stopping_rounds=None,\n",
              "             enable_categorical=False, eval_metric=None, feature_types=None,\n",
              "             gamma=None, grow_policy=None, importance_type=None,\n",
              "             interaction_constraints=None, learning_rate=None, max_bin=None,\n",
              "             max_cat_threshold=None, max_cat_to_onehot=None,\n",
              "             max_delta_step=None, max_depth=None, max_leaves=None,\n",
              "             min_child_weight=None, missing=nan, monotone_constraints=None,\n",
              "             multi_strategy=None, n_estimators=None, n_jobs=None,\n",
              "             num_parallel_tree=None, random_state=None, ...)</pre></div></div></div><div class=\"sk-serial\"><div class=\"sk-item\"><div class=\"sk-estimator sk-toggleable\"><input class=\"sk-toggleable__control sk-hidden--visually\" id=\"sk-estimator-id-3\" type=\"checkbox\" ><label for=\"sk-estimator-id-3\" class=\"sk-toggleable__label sk-toggleable__label-arrow\">XGBRegressor</label><div class=\"sk-toggleable__content\"><pre>XGBRegressor(base_score=None, booster=None, callbacks=None,\n",
              "             colsample_bylevel=None, colsample_bynode=None,\n",
              "             colsample_bytree=None, device=None, early_stopping_rounds=None,\n",
              "             enable_categorical=False, eval_metric=None, feature_types=None,\n",
              "             gamma=None, grow_policy=None, importance_type=None,\n",
              "             interaction_constraints=None, learning_rate=None, max_bin=None,\n",
              "             max_cat_threshold=None, max_cat_to_onehot=None,\n",
              "             max_delta_step=None, max_depth=None, max_leaves=None,\n",
              "             min_child_weight=None, missing=nan, monotone_constraints=None,\n",
              "             multi_strategy=None, n_estimators=None, n_jobs=None,\n",
              "             num_parallel_tree=None, random_state=None, ...)</pre></div></div></div></div></div></div></div></div></div></div>"
            ]
          },
          "metadata": {},
          "execution_count": 24
        }
      ],
      "source": [
        "from sklearn.model_selection import GridSearchCV\n",
        "\n",
        "# Defining the parameter grid for hyperparameter tuning\n",
        "param_grid = {\n",
        "    'n_estimators': [50, 250, 500],\n",
        "    'max_depth': [10, 20, 40],\n",
        "    'min_samples_split': [17, 39, 100]\n",
        "}\n",
        "\n",
        "# Create XGBoost Regressor\n",
        "xgb_mol = XGBRegressor()\n",
        "\n",
        "# Create GridSearchCV object\n",
        "grid_search = GridSearchCV(xgb_mol, param_grid, cv=5, scoring='neg_mean_squared_error', n_jobs=-1)\n",
        "\n",
        "# Fit the model\n",
        "grid_search.fit(X, y)\n"
      ]
    },
    {
      "cell_type": "markdown",
      "metadata": {
        "id": "s0dMiFUtlKtO"
      },
      "source": [
        "## **Evalutaion**"
      ]
    },
    {
      "cell_type": "markdown",
      "metadata": {
        "id": "Ec8omZKc3sYa"
      },
      "source": [
        "Testing the model's competence with unseen data"
      ]
    },
    {
      "cell_type": "markdown",
      "metadata": {
        "id": "4VbJhcVKlR2n"
      },
      "source": [
        "Unseen data=players_22 file data"
      ]
    },
    {
      "cell_type": "code",
      "execution_count": 25,
      "metadata": {
        "colab": {
          "base_uri": "https://localhost:8080/"
        },
        "id": "jwpyRueO1eEe",
        "outputId": "60d699ec-85bc-41b0-9e50-7a394cc8ed68"
      },
      "outputs": [
        {
          "output_type": "stream",
          "name": "stdout",
          "text": [
            "Mean Absolute Error: 0.8461065699215934\n"
          ]
        }
      ],
      "source": [
        "unseen_test = grid_search.predict(new_unseen)\n",
        "rfg_unseen = np.sqrt(mean_absolute_error(unseen_test, unseen_y))\n",
        "print(f'Mean Absolute Error: {rfg_unseen}')"
      ]
    },
    {
      "cell_type": "markdown",
      "metadata": {
        "id": "vjv5GhwkjntO"
      },
      "source": [
        "Saving the Model"
      ]
    },
    {
      "cell_type": "code",
      "execution_count": 26,
      "metadata": {
        "id": "vu2bbxrQjnVH"
      },
      "outputs": [],
      "source": [
        "pickle.dump(grid_search, open('model.pkl','wb'))"
      ]
    }
  ],
  "metadata": {
    "colab": {
      "provenance": []
    },
    "kernelspec": {
      "display_name": "Python 3",
      "name": "python3"
    },
    "language_info": {
      "name": "python"
    }
  },
  "nbformat": 4,
  "nbformat_minor": 0
}